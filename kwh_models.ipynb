{
 "cells": [
  {
   "cell_type": "markdown",
   "metadata": {},
   "source": [
    "# Kwh Models"
   ]
  },
  {
   "cell_type": "code",
   "execution_count": null,
   "metadata": {},
   "outputs": [],
   "source": [
    "import pandas as pd, numpy as np\n",
    "\n",
    "df = pd.read_csv(\"./train.csv\")\n",
    "for x in df.columns:\n",
    "    df[x] = pd.to_numeric(df[x])\n",
    "\n",
    "train_cols = [x for x in df.columns if x != 'metric']\n",
    "train = df[train_cols]\n",
    "test = df['metric']\n",
    "del train['Unnamed: 0']\n",
    "\n",
    "print(\"Train Data\")\n",
    "train.sample(frac = 1).head(20)"
   ]
  },
  {
   "cell_type": "code",
   "execution_count": null,
   "metadata": {},
   "outputs": [],
   "source": [
    "from sklearn import linear_model, decomposition, datasets\n",
    "from sklearn.pipeline import Pipeline\n",
    "from sklearn.model_selection import GridSearchCV\n",
    "from sklearn.preprocessing import PolynomialFeatures\n",
    "\n",
    "poly = PolynomialFeatures()\n",
    "lr = linear_model.LinearRegression()\n",
    "pca = decomposition.PCA()\n",
    "pipe = Pipeline(steps=[('poly', poly), ('linear', lr)])\n",
    "\n",
    "X_features = train\n",
    "y_data = test\n",
    "pca.fit(X_features)\n",
    "\n",
    "poly_degrees = [1, 2, 3, 4, 5, 6]\n",
    "estimator = GridSearchCV(pipe, dict(poly__degree = poly_degrees ))\n",
    "estimator.fit(X_features, y_data)\n",
    "print(estimator.score(X_features, y_data))"
   ]
  }
 ],
 "metadata": {
  "kernelspec": {
   "display_name": "Python 3",
   "language": "python",
   "name": "python3"
  },
  "language_info": {
   "codemirror_mode": {
    "name": "ipython",
    "version": 3
   },
   "file_extension": ".py",
   "mimetype": "text/x-python",
   "name": "python",
   "nbconvert_exporter": "python",
   "pygments_lexer": "ipython3",
   "version": "3.6.5"
  }
 },
 "nbformat": 4,
 "nbformat_minor": 2
}
